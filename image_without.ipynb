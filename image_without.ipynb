{
 "cells": [
  {
   "cell_type": "markdown",
   "id": "ceb42ece-4109-43c9-89b2-05386aba2747",
   "metadata": {},
   "source": [
    "### import libraries"
   ]
  },
  {
   "cell_type": "code",
   "execution_count": 1,
   "id": "95faf2bc-9d8b-46e8-b16c-ad455034091c",
   "metadata": {},
   "outputs": [],
   "source": [
    "import os\n",
    "import cv2\n",
    "import numpy as np\n",
    "from tensorflow.keras.preprocessing.image import ImageDataGenerator\n",
    "from tensorflow.keras.models import Model\n",
    "from tensorflow.keras.layers import GlobalAveragePooling2D, Dense, Dropout\n",
    "from tensorflow.keras.applications import VGG16\n",
    "from tensorflow.keras.optimizers import RMSprop\n",
    "import matplotlib.pyplot as plt"
   ]
  },
  {
   "cell_type": "markdown",
   "id": "119c9f35-5316-4f79-b03d-a8a0c48157dc",
   "metadata": {},
   "source": [
    "### path"
   ]
  },
  {
   "cell_type": "code",
   "execution_count": 2,
   "id": "39fa32aa-33c5-4e7d-be40-db3fea38da48",
   "metadata": {},
   "outputs": [
    {
     "name": "stdout",
     "output_type": "stream",
     "text": [
      "Found 140 images belonging to 2 classes.\n"
     ]
    },
    {
     "name": "stdout",
     "output_type": "stream",
     "text": [
      "Found 16 images belonging to 2 classes.\n",
      "Found 40 images belonging to 2 classes.\n"
     ]
    }
   ],
   "source": [
    "base_dir = r\"C:\\Users\\user\\Desktop\\Study\\3,1\\image\\project\\imagedata\"\n",
    "\n",
    "train_dir = os.path.join(base_dir, 'ttrain')\n",
    "valid_dir = os.path.join(base_dir, 'dev')\n",
    "test_dir = os.path.join(base_dir, 'test')\n",
    "\n",
    "# ImageDataGenerator \n",
    "train_datagen = ImageDataGenerator(rescale=1./255)\n",
    "valid_test_datagen = ImageDataGenerator(rescale=1./255)\n",
    "\n",
    "train_generator = train_datagen.flow_from_directory(train_dir, target_size=(150, 150), batch_size=32, \n",
    "                                                    class_mode='binary', shuffle=True)\n",
    "validation_generator = valid_test_datagen.flow_from_directory(valid_dir, target_size=(150, 150), \n",
    "                                                             batch_size=32, class_mode='binary', shuffle=True)\n",
    "test_generator = valid_test_datagen.flow_from_directory(test_dir, target_size=(150, 150), \n",
    "                                                        batch_size=32, class_mode='binary', shuffle=False)\n"
   ]
  },
  {
   "cell_type": "markdown",
   "id": "09131e8a-d4e0-4db9-8ff7-c7ccecf4323e",
   "metadata": {},
   "source": [
    "### without image enhancement"
   ]
  },
  {
   "cell_type": "code",
   "execution_count": 3,
   "id": "700b1f60-cb1f-4cce-a79d-b1e512cf193b",
   "metadata": {},
   "outputs": [
    {
     "name": "stderr",
     "output_type": "stream",
     "text": [
      "c:\\Users\\user\\anaco\\Lib\\site-packages\\keras\\src\\trainers\\data_adapters\\py_dataset_adapter.py:121: UserWarning: Your `PyDataset` class should call `super().__init__(**kwargs)` in its constructor. `**kwargs` can include `workers`, `use_multiprocessing`, `max_queue_size`. Do not pass these arguments to `fit()`, as they will be ignored.\n",
      "  self._warn_if_super_not_called()\n"
     ]
    },
    {
     "name": "stdout",
     "output_type": "stream",
     "text": [
      "Epoch 1/10\n",
      "\u001b[1m5/5\u001b[0m \u001b[32m━━━━━━━━━━━━━━━━━━━━\u001b[0m\u001b[37m\u001b[0m \u001b[1m17s\u001b[0m 3s/step - accuracy: 0.5470 - loss: 0.6716 - val_accuracy: 0.5625 - val_loss: 0.6776\n",
      "Epoch 2/10\n",
      "\u001b[1m5/5\u001b[0m \u001b[32m━━━━━━━━━━━━━━━━━━━━\u001b[0m\u001b[37m\u001b[0m \u001b[1m13s\u001b[0m 3s/step - accuracy: 0.7130 - loss: 0.6242 - val_accuracy: 0.6250 - val_loss: 0.6689\n",
      "Epoch 3/10\n",
      "\u001b[1m5/5\u001b[0m \u001b[32m━━━━━━━━━━━━━━━━━━━━\u001b[0m\u001b[37m\u001b[0m \u001b[1m14s\u001b[0m 3s/step - accuracy: 0.8372 - loss: 0.6017 - val_accuracy: 0.6250 - val_loss: 0.6609\n",
      "Epoch 4/10\n",
      "\u001b[1m5/5\u001b[0m \u001b[32m━━━━━━━━━━━━━━━━━━━━\u001b[0m\u001b[37m\u001b[0m \u001b[1m13s\u001b[0m 3s/step - accuracy: 0.7313 - loss: 0.6031 - val_accuracy: 0.6250 - val_loss: 0.6607\n",
      "Epoch 5/10\n",
      "\u001b[1m5/5\u001b[0m \u001b[32m━━━━━━━━━━━━━━━━━━━━\u001b[0m\u001b[37m\u001b[0m \u001b[1m15s\u001b[0m 3s/step - accuracy: 0.8098 - loss: 0.5624 - val_accuracy: 0.6250 - val_loss: 0.6492\n",
      "Epoch 6/10\n",
      "\u001b[1m5/5\u001b[0m \u001b[32m━━━━━━━━━━━━━━━━━━━━\u001b[0m\u001b[37m\u001b[0m \u001b[1m15s\u001b[0m 3s/step - accuracy: 0.8907 - loss: 0.5342 - val_accuracy: 0.6250 - val_loss: 0.6402\n",
      "Epoch 7/10\n",
      "\u001b[1m5/5\u001b[0m \u001b[32m━━━━━━━━━━━━━━━━━━━━\u001b[0m\u001b[37m\u001b[0m \u001b[1m15s\u001b[0m 3s/step - accuracy: 0.8678 - loss: 0.5204 - val_accuracy: 0.6250 - val_loss: 0.6300\n",
      "Epoch 8/10\n",
      "\u001b[1m5/5\u001b[0m \u001b[32m━━━━━━━━━━━━━━━━━━━━\u001b[0m\u001b[37m\u001b[0m \u001b[1m15s\u001b[0m 3s/step - accuracy: 0.8694 - loss: 0.5076 - val_accuracy: 0.6250 - val_loss: 0.6411\n",
      "Epoch 9/10\n",
      "\u001b[1m5/5\u001b[0m \u001b[32m━━━━━━━━━━━━━━━━━━━━\u001b[0m\u001b[37m\u001b[0m \u001b[1m17s\u001b[0m 3s/step - accuracy: 0.8660 - loss: 0.5045 - val_accuracy: 0.6250 - val_loss: 0.6222\n",
      "Epoch 10/10\n",
      "\u001b[1m5/5\u001b[0m \u001b[32m━━━━━━━━━━━━━━━━━━━━\u001b[0m\u001b[37m\u001b[0m \u001b[1m20s\u001b[0m 4s/step - accuracy: 0.9141 - loss: 0.4802 - val_accuracy: 0.6250 - val_loss: 0.6455\n"
     ]
    }
   ],
   "source": [
    "base_model = VGG16(weights='imagenet', include_top=False, input_shape=(150, 150, 3))\n",
    "\n",
    "x = base_model.output\n",
    "x = GlobalAveragePooling2D()(x)\n",
    "x = Dense(1024, activation='relu')(x)\n",
    "x = Dropout(0.2)(x)\n",
    "x = Dense(1, activation='sigmoid')(x)  \n",
    "\n",
    "model = Model(inputs=base_model.input, outputs=x)\n",
    "\n",
    "for layer in base_model.layers:\n",
    "    layer.trainable = False\n",
    "\n",
    "model.compile(optimizer=RMSprop(learning_rate=0.0001), \n",
    "              loss='binary_crossentropy', \n",
    "              metrics=['accuracy'])\n",
    "\n",
    "history = model.fit(\n",
    "    train_generator,\n",
    "    steps_per_epoch=len(train_generator) // 16,\n",
    "    epochs=10,\n",
    "    validation_data=validation_generator,\n",
    "    validation_steps=len(validation_generator) // 16\n",
    ")\n"
   ]
  },
  {
   "cell_type": "code",
   "execution_count": 4,
   "id": "09df7ba2-7c1c-4f72-b82e-c7e97b8a9b7d",
   "metadata": {},
   "outputs": [
    {
     "name": "stdout",
     "output_type": "stream",
     "text": [
      "\u001b[1m2/2\u001b[0m \u001b[32m━━━━━━━━━━━━━━━━━━━━\u001b[0m\u001b[37m\u001b[0m \u001b[1m8s\u001b[0m 2s/step - accuracy: 0.7562 - loss: 0.5464\n",
      "Test Loss: 0.5316945910453796\n",
      "Test Accuracy: 0.7749999761581421\n"
     ]
    }
   ],
   "source": [
    "test_loss_without_enhancement, test_accuracy_without_enhancement = model.evaluate(test_generator, steps=len(test_generator))\n",
    "print(f\"Test Loss: {test_loss_without_enhancement}\")\n",
    "print(f\"Test Accuracy: {test_accuracy_without_enhancement}\")"
   ]
  }
 ],
 "metadata": {
  "kernelspec": {
   "display_name": "base",
   "language": "python",
   "name": "python3"
  },
  "language_info": {
   "codemirror_mode": {
    "name": "ipython",
    "version": 3
   },
   "file_extension": ".py",
   "mimetype": "text/x-python",
   "name": "python",
   "nbconvert_exporter": "python",
   "pygments_lexer": "ipython3",
   "version": "3.11.7"
  }
 },
 "nbformat": 4,
 "nbformat_minor": 5
}
